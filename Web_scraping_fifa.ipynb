{
 "cells": [
  {
   "cell_type": "code",
   "execution_count": 7,
   "id": "ae67fb94-077d-48ee-9885-5945bd49446f",
   "metadata": {},
   "outputs": [],
   "source": [
    "# Importing packages\n",
    "\n",
    "import numpy as np\n",
    "import pandas as pd\n",
    "import re\n",
    "import requests\n",
    "from bs4 import BeautifulSoup as Soup"
   ]
  },
  {
   "cell_type": "code",
   "execution_count": null,
   "id": "aab3f7d4-eb88-452a-8eb0-705bf9bd7aa2",
   "metadata": {},
   "outputs": [],
   "source": [
    "# Iniciating variables\n",
    "column = ['ID','Nationality','Name','Age','Overall','Potential',\n",
    "          'Team','Value','Wage','Total_Point']\n",
    "FIFAdata = pd.DataFrame(columns = column)\n",
    "\n",
    "# Web scraping players stats from Fifa 23\n",
    "for offset in range(0,315):\n",
    "    url = \"https://sofifa.com/?r=230005&set=true&offset=\"\n",
    "    url = url + str(offset*60)\n",
    "    p_html = requests.get(url)\n",
    "    p_soup = p_html.text\n",
    "    data = Soup(p_soup,'html.parser')\n",
    "    table = data.find('tbody')\n",
    "    for i in table.findAll('tr'):    \n",
    "        td = i.findAll('td')\n",
    "        ID = td[0].find('img').get('id')\n",
    "        Nationality = td[1].find('img').get('title')\n",
    "        Name = td[1].findAll('a')[0].text\n",
    "        Age = td[2].text.split()\n",
    "        Overall = td[3].find('span').text\n",
    "        Potential = td[4].find('span').text\n",
    "        Team = td[5].find('a').text\n",
    "        Value = td[6].text.strip()\n",
    "        Wage = td[7].text.strip()\n",
    "        Total_Point = td[8].text.strip()\n",
    "        player_data = pd.DataFrame([[ID,Nationality,Name,Age,Overall,Potential,\n",
    "                                 Team,Value,Wage,Total_Point]])\n",
    "        #print(player_data)\n",
    "        player_data.columns = column\n",
    "        FIFAdata = FIFAdata.append(player_data, ignore_index = True)"
   ]
  },
  {
   "cell_type": "code",
   "execution_count": 46,
   "id": "6055d9ff-b9b4-4303-86ab-d1a3d8336f86",
   "metadata": {},
   "outputs": [],
   "source": [
    "# Saving csv file\n",
    "FIFAdata.to_csv('fifa23.csv', index = None)"
   ]
  },
  {
   "cell_type": "code",
   "execution_count": null,
   "id": "731542ea-d373-43cc-a1a8-2e6a21c6ba8e",
   "metadata": {},
   "outputs": [],
   "source": [
    "# Iniciating variables\n",
    "column = ['ID','Nationality','Name','Age','Overall','Potential',\n",
    "          'Team','Value','Wage','Total_Point']\n",
    "FIFAdata = pd.DataFrame(columns = column)\n",
    "\n",
    "# Web scraping players stats from Fifa 19\n",
    "for offset in range(0,300):\n",
    "    url = \"https://sofifa.com/?r=190075&set=true&offset=\"\n",
    "    url = url + str(offset*60)\n",
    "    p_html = requests.get(url)\n",
    "    p_soup = p_html.text\n",
    "    data = Soup(p_soup,'html.parser')\n",
    "    table = data.find('tbody')\n",
    "    for i in table.findAll('tr'):    \n",
    "        td = i.findAll('td')\n",
    "        ID = td[0].find('img').get('id')\n",
    "        Nationality = td[1].find('img').get('title')\n",
    "        Name = td[1].findAll('a')[0].text\n",
    "        Age = td[2].text.split()\n",
    "        Overall = td[3].find('span').text\n",
    "        Potential = td[4].find('span').text\n",
    "        Team = td[5].find('a').text\n",
    "        Value = td[6].text.strip()\n",
    "        Wage = td[7].text.strip()\n",
    "        Total_Point = td[8].text.strip()\n",
    "        player_data = pd.DataFrame([[ID,Nationality,Name,Age,Overall,Potential,\n",
    "                                 Team,Value,Wage,Total_Point]])\n",
    "        #print(player_data)\n",
    "        player_data.columns = column\n",
    "        FIFAdata = FIFAdata.append(player_data, ignore_index = True)"
   ]
  },
  {
   "cell_type": "code",
   "execution_count": 49,
   "id": "46f5f166-1b25-41b0-82f1-c38e76462ece",
   "metadata": {},
   "outputs": [],
   "source": [
    "# Saving csv file\n",
    "FIFAdata.to_csv('fifa19.csv', index = None)"
   ]
  },
  {
   "cell_type": "code",
   "execution_count": null,
   "id": "66f20305-9648-4b99-bff1-bed0bc47849e",
   "metadata": {},
   "outputs": [],
   "source": [
    "# Iniciating variables\n",
    "column = ['ID','Nationality','Name','Age','Overall','Potential',\n",
    "          'Team','Value','Wage','Total_Point']\n",
    "FIFAdata = pd.DataFrame(columns = column)\n",
    "\n",
    "# Web scraping players stats from Fifa 15\n",
    "for offset in range(0,300):\n",
    "    url = \"https://sofifa.com/?r=150059&set=true&offset=\"\n",
    "    url = url + str(offset*60)\n",
    "    p_html = requests.get(url)\n",
    "    p_soup = p_html.text\n",
    "    data = Soup(p_soup,'html.parser')\n",
    "    table = data.find('tbody')\n",
    "    for i in table.findAll('tr'):    \n",
    "        td = i.findAll('td')\n",
    "        ID = td[0].find('img').get('id')\n",
    "        Nationality = td[1].find('img').get('title')\n",
    "        Name = td[1].findAll('a')[0].text\n",
    "        Age = td[2].text.split()\n",
    "        Overall = td[3].find('span').text\n",
    "        Potential = td[4].find('span').text\n",
    "        Team = td[5].find('a').text\n",
    "        Value = td[6].text.strip()\n",
    "        Wage = td[7].text.strip()\n",
    "        Total_Point = td[8].text.strip()\n",
    "        player_data = pd.DataFrame([[ID,Nationality,Name,Age,Overall,Potential,\n",
    "                                 Team,Value,Wage,Total_Point]])\n",
    "        #print(player_data)\n",
    "        player_data.columns = column\n",
    "        FIFAdata = FIFAdata.append(player_data, ignore_index = True)"
   ]
  },
  {
   "cell_type": "code",
   "execution_count": 51,
   "id": "cf57c11c-1e4a-4fa3-a963-88b46e308d85",
   "metadata": {},
   "outputs": [],
   "source": [
    "# Saving csv file\n",
    "FIFAdata.to_csv('fifa15.csv', index = None)"
   ]
  },
  {
   "cell_type": "code",
   "execution_count": null,
   "id": "cbd473af-0f34-45e6-93f0-1e134cd8530a",
   "metadata": {},
   "outputs": [],
   "source": [
    "# Iniciating variables\n",
    "column = ['ID','Nationality','Name','Age','Overall','Potential',\n",
    "          'Team','Value','Wage','Total_Point']\n",
    "FIFAdata = pd.DataFrame(columns = column)\n",
    "\n",
    "# Web scraping players stats from Fifa 11\n",
    "for offset in range(0,300):\n",
    "    url = \"https://sofifa.com/?r=110002&set=true&offset=\"\n",
    "    url = url + str(offset*60)\n",
    "    p_html = requests.get(url)\n",
    "    p_soup = p_html.text\n",
    "    data = Soup(p_soup,'html.parser')\n",
    "    table = data.find('tbody')\n",
    "    for i in table.findAll('tr'):    \n",
    "        td = i.findAll('td')\n",
    "        ID = td[0].find('img').get('id')\n",
    "        Nationality = td[1].find('img').get('title')\n",
    "        Name = td[1].findAll('a')[0].text\n",
    "        Age = td[2].text.split()\n",
    "        Overall = td[3].find('span').text\n",
    "        Potential = td[4].find('span').text\n",
    "        Team = td[5].find('a').text\n",
    "        Value = td[6].text.strip()\n",
    "        Wage = td[7].text.strip()\n",
    "        Total_Point = td[8].text.strip()\n",
    "        player_data = pd.DataFrame([[ID,Nationality,Name,Age,Overall,Potential,\n",
    "                                 Team,Value,Wage,Total_Point]])\n",
    "        #print(player_data)\n",
    "        player_data.columns = column\n",
    "        FIFAdata = FIFAdata.append(player_data, ignore_index = True)"
   ]
  },
  {
   "cell_type": "code",
   "execution_count": 53,
   "id": "a5a5e727-488e-47f4-850c-4f5d1a0da99a",
   "metadata": {},
   "outputs": [],
   "source": [
    "# Saving csv file\n",
    "FIFAdata.to_csv('fifa11.csv', index = None)"
   ]
  },
  {
   "cell_type": "code",
   "execution_count": null,
   "id": "28dcbe98-0a97-4c07-8c34-ee3e6483705d",
   "metadata": {},
   "outputs": [],
   "source": [
    "# Iniciating variables\n",
    "column = ['ID','Nationality','Name','Age','Overall','Potential',\n",
    "          'Team','Value','Wage','Total_Point']\n",
    "FIFAdata = pd.DataFrame(columns = column)\n",
    "\n",
    "# Web scraping players stats from Fifa 7\n",
    "for offset in range(0,300):\n",
    "    url = \"https://sofifa.com/?r=070002&set=true&offset=\"\n",
    "    url = url + str(offset*60)\n",
    "    p_html = requests.get(url)\n",
    "    p_soup = p_html.text\n",
    "    data = Soup(p_soup,'html.parser')\n",
    "    table = data.find('tbody')\n",
    "    for i in table.findAll('tr'):    \n",
    "        td = i.findAll('td')\n",
    "        ID = td[0].find('img').get('id')\n",
    "        Nationality = td[1].find('img').get('title')\n",
    "        Name = td[1].findAll('a')[0].text\n",
    "        Age = td[2].text.split()\n",
    "        Overall = td[3].find('span').text\n",
    "        Potential = td[4].find('span').text\n",
    "        Team = td[5].find('a').text\n",
    "        Value = td[6].text.strip()\n",
    "        Wage = td[7].text.strip()\n",
    "        Total_Point = td[8].text.strip()\n",
    "        player_data = pd.DataFrame([[ID,Nationality,Name,Age,Overall,Potential,\n",
    "                                 Team,Value,Wage,Total_Point]])\n",
    "        #print(player_data)\n",
    "        player_data.columns = column\n",
    "        FIFAdata = FIFAdata.append(player_data, ignore_index = True)"
   ]
  },
  {
   "cell_type": "code",
   "execution_count": 55,
   "id": "78667a82-357a-4cd8-89a7-5b01804bec18",
   "metadata": {},
   "outputs": [],
   "source": [
    "# Saving csv file\n",
    "FIFAdata.to_csv('fifa7.csv', index = None)"
   ]
  },
  {
   "cell_type": "code",
   "execution_count": null,
   "id": "4b5f2a61-6b99-46ad-baf5-f15f85e7586b",
   "metadata": {},
   "outputs": [],
   "source": []
  }
 ],
 "metadata": {
  "kernelspec": {
   "display_name": "Python 3 (ipykernel)",
   "language": "python",
   "name": "python3"
  },
  "language_info": {
   "codemirror_mode": {
    "name": "ipython",
    "version": 3
   },
   "file_extension": ".py",
   "mimetype": "text/x-python",
   "name": "python",
   "nbconvert_exporter": "python",
   "pygments_lexer": "ipython3",
   "version": "3.9.13"
  }
 },
 "nbformat": 4,
 "nbformat_minor": 5
}
